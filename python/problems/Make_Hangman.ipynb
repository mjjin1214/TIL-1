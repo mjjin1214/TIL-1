{
 "cells": [
  {
   "cell_type": "markdown",
   "metadata": {},
   "source": [
    "# 행맨 게임 만들기 "
   ]
  },
  {
   "cell_type": "markdown",
   "metadata": {},
   "source": [
    "## 답안 확인 하기\n",
    "\n",
    "> 행맨 게임을 위한 코드를 작성해봅시다. \n",
    ">\n",
    "> `isanswer(answer, letters)`는 정답 문자열(answer)과 추측 알파벳의 리스트(letters)를 받아서, True/False 결과를 반환합니다."
   ]
  },
  {
   "cell_type": "code",
   "execution_count": 55,
   "metadata": {},
   "outputs": [],
   "source": [
    "# 여기에 코드를 작성하세요.\n",
    "# for\n",
    "def isanswer(answer, letters):\n",
    "    for char in answer:\n",
    "        if char not in letters:\n",
    "            return False\n",
    "    return True\n",
    "\n",
    "# set\n",
    "def isanswer(answer, letters):\n",
    "    return set(answer).issubset(set(letters))"
   ]
  },
  {
   "cell_type": "code",
   "execution_count": 56,
   "metadata": {
    "scrolled": true
   },
   "outputs": [
    {
     "data": {
      "text/plain": [
       "True"
      ]
     },
     "execution_count": 56,
     "metadata": {},
     "output_type": "execute_result"
    }
   ],
   "source": [
    "isanswer('apple', ['a', 'p', 'l','e','q']) #=> False"
   ]
  },
  {
   "cell_type": "markdown",
   "metadata": {},
   "source": [
    "## 현재 상태 출력하기\n",
    "\n",
    "> 행맨 게임을 위한 코드를 작성해봅시다. \n",
    ">\n",
    "> `status(answer, letters)`는 정답 문자열(answer)과 추측 알파벳의 리스트(letters)를 받아서, 현재 결과를 반환합니다."
   ]
  },
  {
   "cell_type": "code",
   "execution_count": 57,
   "metadata": {},
   "outputs": [],
   "source": [
    "# for\n",
    "def status(answer, letters):\n",
    "    result = ''\n",
    "    for char in answer:\n",
    "        if char in letters:\n",
    "            result += char\n",
    "        else:\n",
    "            result += '_'\n",
    "    return result\n",
    "\n",
    "# comprehension\n",
    "def status(answer, letters):\n",
    "    result = [c if c in letters else '_' for c in answer]\n",
    "    return ''.join(result)"
   ]
  },
  {
   "cell_type": "code",
   "execution_count": 58,
   "metadata": {},
   "outputs": [
    {
     "data": {
      "text/plain": [
       "'appl_'"
      ]
     },
     "execution_count": 58,
     "metadata": {},
     "output_type": "execute_result"
    }
   ],
   "source": [
    "status('apple', ['a', 'p', 'l']) #=> 'appl_'"
   ]
  },
  {
   "cell_type": "markdown",
   "metadata": {},
   "source": [
    "## 행맨 로직 만들기 - 자유코딩!\n",
    "\n",
    "> 위의 코드를 활용하여 `hangman(answer)`를 만들어봅시다!\n",
    ">\n",
    "> 사용자가 답을 맞출 때까지 진행하며, 8번내로 정답을 맞춰야 합니다.\n"
   ]
  },
  {
   "cell_type": "code",
   "execution_count": 61,
   "metadata": {},
   "outputs": [],
   "source": [
    "def hangman(answer):\n",
    "    letters = []\n",
    "    attempt = 8\n",
    "    print('**** 게임을 시작하지 ****', end='\\n\\n')\n",
    "    while attempt > 0:\n",
    "        print(f'남은 시도 : {attempt}')\n",
    "        print(f'{status(answer, letters):^20}',end='\\n\\n')\n",
    "        guess = input('단어를 입력하세요 : ').lower()\n",
    "        letters.append(guess)\n",
    "        result = status(answer, letters)\n",
    "        print(f'{answer.count(guess)}개 있다!',end='\\n\\n')\n",
    "        print('='*20, end='\\n\\n')\n",
    "        \n",
    "        if isanswer(answer, letters):\n",
    "            print(f'성공! 답은 {answer}!')\n",
    "            return True\n",
    "        \n",
    "        attempt -= 1\n",
    "            \n",
    "    print(f'실패... 답은 {answer}...')\n",
    "    return False"
   ]
  },
  {
   "cell_type": "code",
   "execution_count": 62,
   "metadata": {
    "scrolled": false
   },
   "outputs": [
    {
     "name": "stdout",
     "output_type": "stream",
     "text": [
      "**** 게임을 시작하지 ****\n",
      "\n",
      "남은 시도 : 8\n",
      "       _____        \n",
      "\n",
      "단어를 입력하세요 : a\n",
      "1개 있다!\n",
      "\n",
      "====================\n",
      "\n",
      "남은 시도 : 7\n",
      "       a____        \n",
      "\n",
      "단어를 입력하세요 : p\n",
      "2개 있다!\n",
      "\n",
      "====================\n",
      "\n",
      "남은 시도 : 6\n",
      "       app__        \n",
      "\n",
      "단어를 입력하세요 : l\n",
      "1개 있다!\n",
      "\n",
      "====================\n",
      "\n",
      "남은 시도 : 5\n",
      "       appl_        \n",
      "\n",
      "단어를 입력하세요 : e\n",
      "1개 있다!\n",
      "\n",
      "====================\n",
      "\n",
      "성공! 답은 apple!\n"
     ]
    },
    {
     "data": {
      "text/plain": [
       "True"
      ]
     },
     "execution_count": 62,
     "metadata": {},
     "output_type": "execute_result"
    }
   ],
   "source": [
    "hangman('apple')"
   ]
  },
  {
   "cell_type": "code",
   "execution_count": null,
   "metadata": {},
   "outputs": [],
   "source": []
  }
 ],
 "metadata": {
  "kernelspec": {
   "display_name": "Python 3",
   "language": "python",
   "name": "python3"
  },
  "language_info": {
   "codemirror_mode": {
    "name": "ipython",
    "version": 3
   },
   "file_extension": ".py",
   "mimetype": "text/x-python",
   "name": "python",
   "nbconvert_exporter": "python",
   "pygments_lexer": "ipython3",
   "version": "3.7.1"
  },
  "latex_envs": {
   "LaTeX_envs_menu_present": true,
   "autoclose": false,
   "autocomplete": true,
   "bibliofile": "biblio.bib",
   "cite_by": "apalike",
   "current_citInitial": 1,
   "eqLabelWithNumbers": true,
   "eqNumInitial": 1,
   "hotkeys": {
    "equation": "Ctrl-E",
    "itemize": "Ctrl-I"
   },
   "labels_anchors": false,
   "latex_user_defs": false,
   "report_style_numbering": false,
   "user_envs_cfg": false
  },
  "toc": {
   "base_numbering": 1,
   "nav_menu": {},
   "number_sections": true,
   "sideBar": true,
   "skip_h1_title": false,
   "title_cell": "Table of Contents",
   "title_sidebar": "Contents",
   "toc_cell": false,
   "toc_position": {},
   "toc_section_display": true,
   "toc_window_display": false
  }
 },
 "nbformat": 4,
 "nbformat_minor": 2
}
