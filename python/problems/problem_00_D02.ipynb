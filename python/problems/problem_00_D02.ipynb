{
 "cells": [
  {
   "cell_type": "markdown",
   "metadata": {},
   "source": [
    "# 가상화폐 시세 판단하기"
   ]
  },
  {
   "cell_type": "markdown",
   "metadata": {},
   "source": [
    "> 최고가와 최저가의 차이를 변동폭으로 정의할 때 (시가 + 변동폭)이 최고가 보다 높을 경우 \"상승장\", 그렇지 않은 경우 \"하락장\" 문자열을 출력하라.\n",
    "\n",
    "|Key Name        |     Description|\n",
    "|---|---|\n",
    "|opeing_price    |최근 24시간 내 시작 거래금액|\n",
    "|closing_price   |최근 24시간 내 마지막 거래금액|\n",
    "|min_price       |최근 24시간 내 최저 거래금액|\n",
    "|max_price       |최근 24시간 내 최고 거래금액|"
   ]
  },
  {
   "cell_type": "code",
   "execution_count": 10,
   "metadata": {
    "scrolled": true
   },
   "outputs": [
    {
     "name": "stdout",
     "output_type": "stream",
     "text": [
      "{'opening_price': '4270000', 'closing_price': '4320000', 'min_price': '4240000', 'max_price': '4379000', 'average_price': '4311060.9019', 'units_traded': '15863.66825832', 'volume_1day': '15863.66825832', 'volume_7day': '42925.74438761', 'buy_price': '4318000', 'sell_price': '4320000', '24H_fluctate': '50000', '24H_fluctate_rate': '1.17', 'date': '1546496165129'}\n"
     ]
    }
   ],
   "source": [
    "import requests\n",
    "btc = requests.get('https://api.bithumb.com/public/ticker/btc').json()['data']\n",
    "print(btc)"
   ]
  },
  {
   "cell_type": "code",
   "execution_count": 9,
   "metadata": {},
   "outputs": [
    {
     "name": "stdout",
     "output_type": "stream",
     "text": [
      "상승장\n"
     ]
    }
   ],
   "source": [
    "# 아래에 코드를 작성하세요.\n",
    "opening_price = int(btc['opening_price'])\n",
    "max_price = int(btc['max_price'])\n",
    "min_price = int(btc['min_price'])\n",
    "\n",
    "if opening_price + (max_price - min_price) > max_price:\n",
    "    print('상승장')\n",
    "else:\n",
    "    print('하락장')\n",
    "\n"
   ]
  },
  {
   "cell_type": "markdown",
   "metadata": {},
   "source": [
    "## 모든 가상화폐 시세 판단하기\n",
    "\n",
    "\n",
    "> currrency dictionary에 담겨있는 모든 가상화폐 거래내역을 바탕으로 출력하라.\n",
    ">\n",
    "> 예외 처리에 유의하세요.\n",
    "\n",
    "\n",
    "\n",
    "```\n",
    "예시 출력)\n",
    "BTC 상승장\n",
    "ETH 상승장\n",
    "DASH 상승장\n",
    "LTC 하락장\n",
    "ETC 하락장\n",
    "XRP 상승장\n",
    "BCH 상승장\n",
    "...\n",
    "```\n"
   ]
  },
  {
   "cell_type": "code",
   "execution_count": 11,
   "metadata": {},
   "outputs": [
    {
     "name": "stdout",
     "output_type": "stream",
     "text": [
      "{'BTC': {'opening_price': '4268000', 'closing_price': '4320000', 'min_price': '4240000', 'max_price': '4379000', 'average_price': '4311064.7109', 'units_traded': '15863.80205832', 'volume_1day': '15863.80205832', 'volume_7day': '42925.74438761', 'buy_price': '4318000', 'sell_price': '4320000', '24H_fluctate': '52000', '24H_fluctate_rate': '1.21'}, 'ETH': {'opening_price': '157500', 'closing_price': '171700', 'min_price': '156600', 'max_price': '174000', 'average_price': '168294.3224', 'units_traded': '530211.90449669', 'volume_1day': '530211.90449669', 'volume_7day': '1548094.950380317179081065', 'buy_price': '171700', 'sell_price': '171800', '24H_fluctate': '14200', '24H_fluctate_rate': '9.01'}, 'DASH': {'opening_price': '89600', 'closing_price': '93100', 'min_price': '88100', 'max_price': '94800', 'average_price': '93293.7293', 'units_traded': '4396081.59788265', 'volume_1day': '4396081.59788265', 'volume_7day': '35204827.26772653', 'buy_price': '93100', 'sell_price': '93400', '24H_fluctate': '3500', '24H_fluctate_rate': '3.90'}, 'LTC': {'opening_price': '35330', 'closing_price': '36570', 'min_price': '35230', 'max_price': '37330', 'average_price': '36426.3962', 'units_traded': '75213.72959227', 'volume_1day': '75213.72959227', 'volume_7day': '176677.40707674', 'buy_price': '36590', 'sell_price': '36690', '24H_fluctate': '1240', '24H_fluctate_rate': '3.50'}, 'ETC': {'opening_price': '5830', 'closing_price': '5945', 'min_price': '5785', 'max_price': '6040', 'average_price': '5948.8997', 'units_traded': '196587.08686122', 'volume_1day': '196587.08686122', 'volume_7day': '1807192.488727680350998173', 'buy_price': '5925', 'sell_price': '5945', '24H_fluctate': '115', '24H_fluctate_rate': '1.97'}, 'XRP': {'opening_price': '403', 'closing_price': '410', 'min_price': '399', 'max_price': '420', 'average_price': '410.4786', 'units_traded': '74768765.94454304', 'volume_1day': '74768765.94454304', 'volume_7day': '505516886.1453862', 'buy_price': '409', 'sell_price': '410', '24H_fluctate': '7', '24H_fluctate_rate': '1.73'}, 'BCH': {'opening_price': '182000', 'closing_price': '188700', 'min_price': '179600', 'max_price': '195900', 'average_price': '186506.23', 'units_traded': '78043.16173169', 'volume_1day': '78043.16173169', 'volume_7day': '603310.9384649', 'buy_price': '188500', 'sell_price': '188700', '24H_fluctate': '6700', '24H_fluctate_rate': '3.68'}, 'XMR': {'opening_price': '53700', 'closing_price': '57200', 'min_price': '53400', 'max_price': '59600', 'average_price': '57472.2804', 'units_traded': '12330849.5034003', 'volume_1day': '12330849.5034003', 'volume_7day': '55997353.007561104037', 'buy_price': '56650', 'sell_price': '57150', '24H_fluctate': '3500', '24H_fluctate_rate': '6.51'}, 'ZEC': {'opening_price': '64700', 'closing_price': '66700', 'min_price': '64400', 'max_price': '69150', 'average_price': '67205.9918', 'units_traded': '682572.41850396', 'volume_1day': '682572.41850396', 'volume_7day': '42234136.91754041', 'buy_price': '66500', 'sell_price': '66650', '24H_fluctate': '2000', '24H_fluctate_rate': '3.09'}, 'QTUM': {'opening_price': '2456', 'closing_price': '2547', 'min_price': '2434', 'max_price': '2599', 'average_price': '2534.0278', 'units_traded': '333150.49232786', 'volume_1day': '333150.49232786', 'volume_7day': '5207425.62165503', 'buy_price': '2541', 'sell_price': '2550', '24H_fluctate': '91', '24H_fluctate_rate': '3.70'}, 'BTG': {'opening_price': '14510', 'closing_price': '14840', 'min_price': '14300', 'max_price': '15100', 'average_price': '14896.5177', 'units_traded': '19587927.27301951', 'volume_1day': '19587927.27301951', 'volume_7day': '95384498.94072977', 'buy_price': '14740', 'sell_price': '14880', '24H_fluctate': '330', '24H_fluctate_rate': '2.27'}, 'EOS': {'opening_price': '2942', 'closing_price': '3125', 'min_price': '2926', 'max_price': '3204', 'average_price': '3085.4665', 'units_traded': '3769338.68364431', 'volume_1day': '3769338.68364431', 'volume_7day': '24407579.7218535', 'buy_price': '3123', 'sell_price': '3125', '24H_fluctate': '183', '24H_fluctate_rate': '6.22'}, 'ICX': {'opening_price': '270', 'closing_price': '297', 'min_price': '269', 'max_price': '318', 'average_price': '289.9191', 'units_traded': '1619121.40820254', 'volume_1day': '1619121.40820254', 'volume_7day': '4181513.739114361262624206', 'buy_price': '297', 'sell_price': '298', '24H_fluctate': '27', '24H_fluctate_rate': '10.00'}, 'VET': {'opening_price': '7.31', 'closing_price': '7.25', 'min_price': '7', 'max_price': '7.35', 'average_price': '7.2208', 'units_traded': '8796129.6995897', 'volume_1day': '8796129.6995897', 'volume_7day': '73428539.416610628192044491', 'buy_price': '7.23', 'sell_price': '7.25', '24H_fluctate': '-0.06', '24H_fluctate_rate': '-0.82'}, 'TRX': {'opening_price': '21.5', 'closing_price': '21.9', 'min_price': '21.3', 'max_price': '22.5', 'average_price': '21.9607', 'units_traded': '106991016.74982772', 'volume_1day': '106991016.74982772', 'volume_7day': '874703535.6667759', 'buy_price': '21.9', 'sell_price': '22', '24H_fluctate': '0.4', '24H_fluctate_rate': '1.86'}, 'ELF': {'opening_price': '126', 'closing_price': '129', 'min_price': '123', 'max_price': '132', 'average_price': '127.99', 'units_traded': '2032811.71626917', 'volume_1day': '2032811.71626917', 'volume_7day': '16121266.752737716182266018', 'buy_price': '127', 'sell_price': '128', '24H_fluctate': '3', '24H_fluctate_rate': '2.38'}, 'MITH': {'opening_price': '69.3', 'closing_price': '70.8', 'min_price': '68.1', 'max_price': '72.5', 'average_price': '70.5746', 'units_traded': '13951699.45645074', 'volume_1day': '13951699.45645074', 'volume_7day': '114566686.082678189639909801', 'buy_price': '70.4', 'sell_price': '70.8', '24H_fluctate': '1.5', '24H_fluctate_rate': '2.16'}, 'MCO': {'opening_price': '2499', 'closing_price': '2588', 'min_price': '2434', 'max_price': '2700', 'average_price': '2576.5858', 'units_traded': '830591.89132588', 'volume_1day': '830591.89132588', 'volume_7day': '1164597.86001889', 'buy_price': '2589', 'sell_price': '2619', '24H_fluctate': '89', '24H_fluctate_rate': '3.56'}, 'OMG': {'opening_price': '1622', 'closing_price': '1660', 'min_price': '1612', 'max_price': '1705', 'average_price': '1656.8363', 'units_traded': '971195.04220102', 'volume_1day': '971195.04220102', 'volume_7day': '10269559.919716384470246679', 'buy_price': '1655', 'sell_price': '1665', '24H_fluctate': '38', '24H_fluctate_rate': '2.34'}, 'KNC': {'opening_price': '180', 'closing_price': '183', 'min_price': '178', 'max_price': '188', 'average_price': '182.6911', 'units_traded': '1264315.38521373', 'volume_1day': '1264315.38521373', 'volume_7day': '7459441.306898531356951155', 'buy_price': '182', 'sell_price': '183', '24H_fluctate': '3', '24H_fluctate_rate': '1.66'}, 'GNT': {'opening_price': '75', 'closing_price': '77.1', 'min_price': '74.5', 'max_price': '79', 'average_price': '77.2988', 'units_traded': '2578825.39156369', 'volume_1day': '2578825.39156369', 'volume_7day': '37904479.872810589477199817', 'buy_price': '77.1', 'sell_price': '77.4', '24H_fluctate': '2.1', '24H_fluctate_rate': '2.80'}, 'ZIL': {'opening_price': '22.6', 'closing_price': '22.6', 'min_price': '22.1', 'max_price': '23.3', 'average_price': '22.7704', 'units_traded': '33573944.5994042', 'volume_1day': '33573944.5994042', 'volume_7day': '469730058.239753866289', 'buy_price': '22.5', 'sell_price': '22.6', '24H_fluctate': '0', '24H_fluctate_rate': '0.00'}, 'ETHOS': {'opening_price': '1144', 'closing_price': '1116', 'min_price': '1060', 'max_price': '1156', 'average_price': '1104.454', 'units_traded': '366859.94419509', 'volume_1day': '366859.94419509', 'volume_7day': '7593191.15320418', 'buy_price': '1096', 'sell_price': '1114', '24H_fluctate': '-28', '24H_fluctate_rate': '-2.44'}, 'PAY': {'opening_price': '1842', 'closing_price': '1800', 'min_price': '1690', 'max_price': '1875', 'average_price': '1795.5944', 'units_traded': '531540.75473965', 'volume_1day': '531540.75473965', 'volume_7day': '12057081.348726976652719418', 'buy_price': '1800', 'sell_price': '1805', '24H_fluctate': '-42', '24H_fluctate_rate': '-2.28'}, 'WAX': {'opening_price': '108', 'closing_price': '107', 'min_price': '103', 'max_price': '110', 'average_price': '107.1422', 'units_traded': '1403329.00845296', 'volume_1day': '1403329.00845296', 'volume_7day': '21453935.87285321', 'buy_price': '106', 'sell_price': '107', '24H_fluctate': '-1', '24H_fluctate_rate': '-0.92'}, 'POWR': {'opening_price': '558', 'closing_price': '540', 'min_price': '500', 'max_price': '560', 'average_price': '536.9516', 'units_traded': '942140.91554736', 'volume_1day': '942140.91554736', 'volume_7day': '7870370.02010272', 'buy_price': '534', 'sell_price': '540', '24H_fluctate': '-18', '24H_fluctate_rate': '-3.22'}, 'LRC': {'opening_price': '600', 'closing_price': '592', 'min_price': '568', 'max_price': '610', 'average_price': '589.3121', 'units_traded': '344221.86519821', 'volume_1day': '344221.86519821', 'volume_7day': '3867275.430722897867907104', 'buy_price': '590', 'sell_price': '592', '24H_fluctate': '-8', '24H_fluctate_rate': '-1.33'}, 'GTO': {'opening_price': '73.1', 'closing_price': '72.8', 'min_price': '70.5', 'max_price': '74.3', 'average_price': '72.4848', 'units_traded': '2081868.86184819', 'volume_1day': '2081868.86184819', 'volume_7day': '25602675.38497941', 'buy_price': '72.1', 'sell_price': '72.8', '24H_fluctate': '-0.3', '24H_fluctate_rate': '-0.41'}, 'STEEM': {'opening_price': '1841', 'closing_price': '1869', 'min_price': '1800', 'max_price': '1919', 'average_price': '1852.0795', 'units_traded': '119045.45287375', 'volume_1day': '119045.45287375', 'volume_7day': '1673498.88786171', 'buy_price': '1833', 'sell_price': '1863', '24H_fluctate': '28', '24H_fluctate_rate': '1.52'}, 'STRAT': {'opening_price': '2932', 'closing_price': '2867', 'min_price': '2697', 'max_price': '2932', 'average_price': '2835.1647', 'units_traded': '84582.47714804', 'volume_1day': '84582.47714804', 'volume_7day': '712645.48563618', 'buy_price': '2867', 'sell_price': '2919', '24H_fluctate': '-65', '24H_fluctate_rate': '-2.21'}, 'ZRX': {'opening_price': '356', 'closing_price': '365', 'min_price': '355', 'max_price': '367', 'average_price': '361.1491', 'units_traded': '782734.74756698', 'volume_1day': '782734.74756698', 'volume_7day': '7005992.442831783641597507', 'buy_price': '364', 'sell_price': '365', '24H_fluctate': '9', '24H_fluctate_rate': '2.52'}, 'REP': {'opening_price': '97600', 'closing_price': '99150', 'min_price': '95650', 'max_price': '101000', 'average_price': '98097.2754', 'units_traded': '6088.38950445', 'volume_1day': '6088.38950445', 'volume_7day': '98358.123045985929175878', 'buy_price': '99000', 'sell_price': '99150', '24H_fluctate': '1550', '24H_fluctate_rate': '1.58'}, 'AE': {'opening_price': '1681', 'closing_price': '1661', 'min_price': '1605', 'max_price': '1720', 'average_price': '1650.0689', 'units_traded': '138574.13911272', 'volume_1day': '138574.13911272', 'volume_7day': '2318949.021737368926801516', 'buy_price': '1657', 'sell_price': '1661', '24H_fluctate': '-20', '24H_fluctate_rate': '-1.18'}, 'XEM': {'opening_price': '72.5', 'closing_price': '74.1', 'min_price': '71.3', 'max_price': '87.8', 'average_price': '76.1302', 'units_traded': '9217568.20694388', 'volume_1day': '9217568.20694388', 'volume_7day': '21154087.31893642', 'buy_price': '73.4', 'sell_price': '74.1', '24H_fluctate': '1.6', '24H_fluctate_rate': '2.20'}, 'SNT': {'opening_price': '117', 'closing_price': '118', 'min_price': '108', 'max_price': '120', 'average_price': '116.2579', 'units_traded': '3142421.05216274', 'volume_1day': '3142421.05216274', 'volume_7day': '26018421.073577065038854866', 'buy_price': '118', 'sell_price': '119', '24H_fluctate': '1', '24H_fluctate_rate': '0.85'}, 'ADA': {'opening_price': '78.2', 'closing_price': '77.9', 'min_price': '75.9', 'max_price': '79.5', 'average_price': '77.8557', 'units_traded': '2885182.63057585', 'volume_1day': '2885182.63057585', 'volume_7day': '40365597.34823066', 'buy_price': '77.8', 'sell_price': '77.9', '24H_fluctate': '-0.3', '24H_fluctate_rate': '-0.38'}, 'PPT': {'opening_price': '1677', 'closing_price': '1687', 'min_price': '1636', 'max_price': '1707', 'average_price': '1682.821', 'units_traded': '33666.41078692', 'volume_1day': '33666.41078692', 'volume_7day': '755365.40294952', 'buy_price': '1672', 'sell_price': '1690', '24H_fluctate': '10', '24H_fluctate_rate': '0.59'}, 'CTXC': {'opening_price': '113', 'closing_price': '117', 'min_price': '113', 'max_price': '123', 'average_price': '117.9435', 'units_traded': '1717670.7884795', 'volume_1day': '1717670.7884795', 'volume_7day': '11853490.369407975775543446', 'buy_price': '117', 'sell_price': '119', '24H_fluctate': '4', '24H_fluctate_rate': '3.53'}, 'CMT': {'opening_price': '35.1', 'closing_price': '35.1', 'min_price': '32.4', 'max_price': '38.1', 'average_price': '36.1561', 'units_traded': '12018160.8204092', 'volume_1day': '12018160.8204092', 'volume_7day': '40645941.038910217290073956', 'buy_price': '34.7', 'sell_price': '35', '24H_fluctate': '0', '24H_fluctate_rate': '0.00'}, 'THETA': {'opening_price': '53.7', 'closing_price': '56.6', 'min_price': '52.8', 'max_price': '60', 'average_price': '55.8436', 'units_traded': '12880880.78813796', 'volume_1day': '12880880.78813796', 'volume_7day': '95128276.080409200836930498', 'buy_price': '56.3', 'sell_price': '56.5', '24H_fluctate': '2.9', '24H_fluctate_rate': '5.40'}, 'WTC': {'opening_price': '1245', 'closing_price': '1290', 'min_price': '1220', 'max_price': '1290', 'average_price': '1261.6998', 'units_traded': '111692.0072831', 'volume_1day': '111692.0072831', 'volume_7day': '2372162.878862167178244233', 'buy_price': '1279', 'sell_price': '1290', '24H_fluctate': '45', '24H_fluctate_rate': '3.61'}, 'ITC': {'opening_price': '135', 'closing_price': '138', 'min_price': '133', 'max_price': '142', 'average_price': '138.039', 'units_traded': '2335461.31181271', 'volume_1day': '2335461.31181271', 'volume_7day': '25157702.848106867845649895', 'buy_price': '137', 'sell_price': '138', '24H_fluctate': '3', '24H_fluctate_rate': '2.22'}, 'TRUE': {'opening_price': '281', 'closing_price': '296', 'min_price': '280', 'max_price': '306', 'average_price': '292.9255', 'units_traded': '497332.63273792', 'volume_1day': '497332.63273792', 'volume_7day': '6731745.975398352801872378', 'buy_price': '296', 'sell_price': '298', '24H_fluctate': '15', '24H_fluctate_rate': '5.33'}, 'ABT': {'opening_price': '96.1', 'closing_price': '99.2', 'min_price': '92.8', 'max_price': '128', 'average_price': '109.0391', 'units_traded': '29385421.16707767', 'volume_1day': '29385421.16707767', 'volume_7day': '41858559.347104442921137791', 'buy_price': '98.5', 'sell_price': '99.2', '24H_fluctate': '3.1', '24H_fluctate_rate': '3.22'}, 'RNT': {'opening_price': '102', 'closing_price': '135', 'min_price': '96.4', 'max_price': '164', 'average_price': '136.1306', 'units_traded': '69894117.09463457', 'volume_1day': '69894117.09463457', 'volume_7day': '110477362.327752107153057595', 'buy_price': '137', 'sell_price': '140', '24H_fluctate': '33', '24H_fluctate_rate': '32.35'}, 'PLY': {'opening_price': '37.7', 'closing_price': '38.3', 'min_price': '36.9', 'max_price': '41.3', 'average_price': '39.1201', 'units_traded': '28429089.97496236', 'volume_1day': '28429089.97496236', 'volume_7day': '104684086.415594582', 'buy_price': '38.3', 'sell_price': '38.7', '24H_fluctate': '0.59', '24H_fluctate_rate': '1.59'}, 'WAVES': {'opening_price': '3499', 'closing_price': '3486', 'min_price': '3384', 'max_price': '3528', 'average_price': '3458.0322', 'units_traded': '1100453.84858898', 'volume_1day': '1100453.84858898', 'volume_7day': '2918226.43597814', 'buy_price': '3467', 'sell_price': '3486', '24H_fluctate': '-13', '24H_fluctate_rate': '-0.37'}, 'LINK': {'opening_price': '330', 'closing_price': '403', 'min_price': '330', 'max_price': '446', 'average_price': '394.0922', 'units_traded': '4720272.68774995', 'volume_1day': '4720272.68774995', 'volume_7day': '8145389.266349195399009178', 'buy_price': '401', 'sell_price': '403', '24H_fluctate': '73', '24H_fluctate_rate': '22.12'}, 'ENJ': {'opening_price': '44.2', 'closing_price': '44.4', 'min_price': '43.7', 'max_price': '45.9', 'average_price': '44.6297', 'units_traded': '3341799.55647866', 'volume_1day': '3341799.55647866', 'volume_7day': '30602338.654679157734122814', 'buy_price': '44.1', 'sell_price': '44.6', '24H_fluctate': '0.2', '24H_fluctate_rate': '0.45'}, 'PST': {'opening_price': '106', 'closing_price': '112', 'min_price': '106', 'max_price': '123', 'average_price': '115.3741', 'units_traded': '3477571.24330879', 'volume_1day': '3477571.24330879', 'volume_7day': '10014412.211442861531644415', 'buy_price': '112', 'sell_price': '115', '24H_fluctate': '6', '24H_fluctate_rate': '5.66'}, 'SALT': {'opening_price': '267', 'closing_price': '277', 'min_price': '265', 'max_price': '289', 'average_price': '275.6256', 'units_traded': '1756494.63443363', 'volume_1day': '1756494.63443363', 'volume_7day': '13155838.47301024', 'buy_price': '276', 'sell_price': '277', '24H_fluctate': '10', '24H_fluctate_rate': '3.74'}, 'RDN': {'opening_price': '261', 'closing_price': '306', 'min_price': '260', 'max_price': '350', 'average_price': '317.905', 'units_traded': '7051786.84938059', 'volume_1day': '7051786.84938059', 'volume_7day': '21706016.057794257359668468', 'buy_price': '306', 'sell_price': '309', '24H_fluctate': '45', '24H_fluctate_rate': '17.24'}, 'LOOM': {'opening_price': '51.3', 'closing_price': '55', 'min_price': '50.6', 'max_price': '60', 'average_price': '55.2598', 'units_traded': '11259803.13006169', 'volume_1day': '11259803.13006169', 'volume_7day': '28577599.12111002325102964', 'buy_price': '54.8', 'sell_price': '55.9', '24H_fluctate': '3.7', '24H_fluctate_rate': '7.21'}, 'BHPC': {'opening_price': '910', 'closing_price': '908', 'min_price': '895', 'max_price': '930', 'average_price': '910.2084', 'units_traded': '683735.53959821', 'volume_1day': '683735.53959821', 'volume_7day': '9325841.448376765842374079', 'buy_price': '908', 'sell_price': '914', '24H_fluctate': '-2', '24H_fluctate_rate': '-0.21'}, 'PIVX': {'opening_price': '935', 'closing_price': '956', 'min_price': '929', 'max_price': '990', 'average_price': '962.7707', 'units_traded': '382671.32581671', 'volume_1day': '382671.32581671', 'volume_7day': '10778494.98001736', 'buy_price': '947', 'sell_price': '956', '24H_fluctate': '21', '24H_fluctate_rate': '2.24'}, 'INS': {'opening_price': '310', 'closing_price': '327', 'min_price': '307', 'max_price': '369', 'average_price': '332.6806', 'units_traded': '2742836.90913219', 'volume_1day': '2742836.90913219', 'volume_7day': '9606338.3755625447', 'buy_price': '327', 'sell_price': '329', '24H_fluctate': '17', '24H_fluctate_rate': '5.48'}, 'BCD': {'opening_price': '1012', 'closing_price': '1027', 'min_price': '1002', 'max_price': '1040', 'average_price': '1023.0804', 'units_traded': '231014.57632678', 'volume_1day': '231014.57632678', 'volume_7day': '2462459.72782558', 'buy_price': '1027', 'sell_price': '1037', '24H_fluctate': '15', '24H_fluctate_rate': '1.48'}, 'BZNT': {'opening_price': '25.9', 'closing_price': '28.2', 'min_price': '25.4', 'max_price': '31.9', 'average_price': '29.2551', 'units_traded': '92523764.62739516', 'volume_1day': '92523764.62739516', 'volume_7day': '166161649.821079646283836089', 'buy_price': '27.8', 'sell_price': '28.2', '24H_fluctate': '2.3', '24H_fluctate_rate': '8.88'}, 'XLM': {'opening_price': '127', 'closing_price': '130', 'min_price': '126', 'max_price': '133', 'average_price': '129.4089', 'units_traded': '7374592.15970881', 'volume_1day': '7374592.15970881', 'volume_7day': '53078839.97218626', 'buy_price': '129', 'sell_price': '130', '24H_fluctate': '3', '24H_fluctate_rate': '2.36'}, 'OCN': {'opening_price': '3.99', 'closing_price': '3.94', 'min_price': '3.87', 'max_price': '4.05', 'average_price': '3.9619', 'units_traded': '74630989.21550183', 'volume_1day': '74630989.21550183', 'volume_7day': '1974594398.770357934073537436', 'buy_price': '3.94', 'sell_price': '3.96', '24H_fluctate': '-0.05', '24H_fluctate_rate': '-1.25'}, 'BSV': {'opening_price': '101900', 'closing_price': '102600', 'min_price': '100000', 'max_price': '106900', 'average_price': '102811.2084', 'units_traded': '40313.98954368', 'volume_1day': '40313.98954368', 'volume_7day': '290166.67209266', 'buy_price': '102600', 'sell_price': '102700', '24H_fluctate': '700', '24H_fluctate_rate': '0.68'}, 'TMTG': {'opening_price': '8.38', 'closing_price': '8.33', 'min_price': '8.3', 'max_price': '8.5', 'average_price': '8.3855', 'units_traded': '194522127.17707081', 'volume_1day': '194522127.17707081', 'volume_7day': '1394989571.879656473867951995', 'buy_price': '8.33', 'sell_price': '8.35', '24H_fluctate': '-0.05', '24H_fluctate_rate': '-0.59'}, 'BAT': {'opening_price': '146', 'closing_price': '148', 'min_price': '145', 'max_price': '154', 'average_price': '148.7701', 'units_traded': '1501206.25907594', 'volume_1day': '1501206.25907594', 'volume_7day': '6889765.823585704766733152', 'buy_price': '148', 'sell_price': '149', '24H_fluctate': '2', '24H_fluctate_rate': '1.36'}, 'WET': {'opening_price': '13.8', 'closing_price': '14.2', 'min_price': '13.6', 'max_price': '14.6', 'average_price': '14.1473', 'units_traded': '29116245.10890796', 'volume_1day': '29116245.10890796', 'volume_7day': '217510814.385768161936344749', 'buy_price': '14.1', 'sell_price': '14.2', '24H_fluctate': '0.4', '24H_fluctate_rate': '2.89'}, 'XVG': {'opening_price': '7.81', 'closing_price': '8.01', 'min_price': '7.79', 'max_price': '8.09', 'average_price': '7.9281', 'units_traded': '6297074.41015046', 'volume_1day': '6297074.41015046', 'volume_7day': '51913048.53562393', 'buy_price': '7.98', 'sell_price': '8.01', '24H_fluctate': '0.2', '24H_fluctate_rate': '2.56'}, 'IOST': {'opening_price': '6.06', 'closing_price': '6.39', 'min_price': '6.05', 'max_price': '6.63', 'average_price': '6.4085', 'units_traded': '468382305.70597994', 'volume_1day': '468382305.70597994', 'volume_7day': '1070940661.48557216816641076', 'buy_price': '6.39', 'sell_price': '6.45', '24H_fluctate': '0.33', '24H_fluctate_rate': '5.44'}, 'POLY': {'opening_price': '158', 'closing_price': '160', 'min_price': '155', 'max_price': '165', 'average_price': '160.094', 'units_traded': '1157752.29899356', 'volume_1day': '1157752.29899356', 'volume_7day': '12939723.97974361706337241', 'buy_price': '159', 'sell_price': '162', '24H_fluctate': '2', '24H_fluctate_rate': '1.26'}, 'HC': {'opening_price': '1419', 'closing_price': '1437', 'min_price': '1390', 'max_price': '1453', 'average_price': '1420.1966', 'units_traded': '67394.94432437', 'volume_1day': '67394.94432437', 'volume_7day': '1081703.97653894', 'buy_price': '1420', 'sell_price': '1437', '24H_fluctate': '18', '24H_fluctate_rate': '1.26'}, 'MEETONE': [], 'ADD': [], 'HORUS': [], 'CHL': [], 'EOSDAC': [], 'BLACK': [], 'ROM': {'opening_price': '0.14', 'closing_price': '0.12', 'min_price': '0.12', 'max_price': '0.14', 'average_price': '0.1268', 'units_traded': '19023989825.78188681', 'volume_1day': '19023989825.78188681', 'volume_7day': '176090599645.706727814149315067', 'buy_price': '0.12', 'sell_price': '0.13', '24H_fluctate': '-0.02', '24H_fluctate_rate': '-14.28'}, 'AMO': {'opening_price': '1.72', 'closing_price': '1.75', 'min_price': '1.66', 'max_price': '1.93', 'average_price': '1.7722', 'units_traded': '18260687307.98506596', 'volume_1day': '18260687307.98506596', 'volume_7day': '23607405464.134561433272924924', 'buy_price': '1.74', 'sell_price': '1.75', '24H_fluctate': '0.03', '24H_fluctate_rate': '1.74'}, 'date': '1546496173964'}\n"
     ]
    }
   ],
   "source": [
    "currency = requests.get('https://api.bithumb.com/public/ticker/all').json()['data']\n",
    "print(currency)"
   ]
  },
  {
   "cell_type": "code",
   "execution_count": 24,
   "metadata": {},
   "outputs": [
    {
     "name": "stdout",
     "output_type": "stream",
     "text": [
      "BTC 상승장\n",
      "ETH 상승장\n",
      "DASH 상승장\n",
      "LTC 상승장\n",
      "ETC 상승장\n",
      "XRP 상승장\n",
      "BCH 상승장\n",
      "XMR 상승장\n",
      "ZEC 상승장\n",
      "QTUM 상승장\n",
      "BTG 상승장\n",
      "EOS 상승장\n",
      "ICX 상승장\n",
      "VET 상승장\n",
      "TRX 상승장\n",
      "ELF 상승장\n",
      "MITH 상승장\n",
      "MCO 상승장\n",
      "OMG 상승장\n",
      "KNC 상승장\n",
      "GNT 상승장\n",
      "ZIL 상승장\n",
      "ETHOS 상승장\n",
      "PAY 상승장\n",
      "WAX 상승장\n",
      "POWR 상승장\n",
      "LRC 상승장\n",
      "GTO 상승장\n",
      "STEEM 상승장\n",
      "STRAT 상승장\n",
      "ZRX 상승장\n",
      "REP 상승장\n",
      "AE 상승장\n",
      "XEM 상승장\n",
      "SNT 상승장\n",
      "ADA 상승장\n",
      "PPT 상승장\n",
      "CTXC 하락장\n",
      "CMT 상승장\n",
      "THETA 상승장\n",
      "WTC 상승장\n",
      "ITC 상승장\n",
      "TRUE 상승장\n",
      "ABT 상승장\n",
      "RNT 상승장\n",
      "PLY 상승장\n",
      "WAVES 상승장\n",
      "LINK 하락장\n",
      "ENJ 상승장\n",
      "PST 하락장\n",
      "SALT 상승장\n",
      "RDN 상승장\n",
      "LOOM 상승장\n",
      "BHPC 상승장\n",
      "PIVX 상승장\n",
      "INS 상승장\n",
      "BCD 상승장\n",
      "BZNT 상승장\n",
      "XLM 상승장\n",
      "OCN 상승장\n",
      "BSV 상승장\n",
      "TMTG 상승장\n",
      "BAT 상승장\n",
      "WET 상승장\n",
      "XVG 상승장\n",
      "IOST 상승장\n",
      "POLY 상승장\n",
      "HC 상승장\n",
      "타입 에러 발생\n",
      "타입 에러 발생\n",
      "타입 에러 발생\n",
      "타입 에러 발생\n",
      "타입 에러 발생\n",
      "타입 에러 발생\n",
      "ROM 상승장\n",
      "AMO 상승장\n",
      "타입 에러 발생\n"
     ]
    }
   ],
   "source": [
    "# 아래에 코드를 작성하세요.\n",
    "\n",
    "# for key in currency.keys():\n",
    "#     # key == 'BTC'\n",
    "#     value = currency[key]\n",
    "    \n",
    "\n",
    "for key, value in currency.items():\n",
    "    # key == 'BTC', value == { ... }\n",
    "    # 방법 1.\n",
    "#     if 'max_price' in value:\n",
    "    # 방법 2.\n",
    "#     if type(value) == type({}):\n",
    "    # 방법 2-a.\n",
    "#     if isinstance(value, dict):\n",
    "    # 방법 3.\n",
    "    try:\n",
    "        opening_price = float(value['opening_price'])\n",
    "        max_price = float(value['max_price'])\n",
    "        min_price = float(value['min_price'])\n",
    "\n",
    "        if opening_price + (max_price - min_price) > max_price:\n",
    "            print(f'{key} 상승장')\n",
    "        else:\n",
    "            print(f'{key} 하락장')\n",
    "    except TypeError:\n",
    "        print('** 타입 에러 발생 **')"
   ]
  }
 ],
 "metadata": {
  "kernelspec": {
   "display_name": "Python 3",
   "language": "python",
   "name": "python3"
  },
  "language_info": {
   "codemirror_mode": {
    "name": "ipython",
    "version": 3
   },
   "file_extension": ".py",
   "mimetype": "text/x-python",
   "name": "python",
   "nbconvert_exporter": "python",
   "pygments_lexer": "ipython3",
   "version": "3.7.1"
  },
  "toc": {
   "base_numbering": 1,
   "nav_menu": {},
   "number_sections": true,
   "sideBar": true,
   "skip_h1_title": false,
   "title_cell": "Table of Contents",
   "title_sidebar": "Contents",
   "toc_cell": false,
   "toc_position": {},
   "toc_section_display": true,
   "toc_window_display": false
  }
 },
 "nbformat": 4,
 "nbformat_minor": 2
}
