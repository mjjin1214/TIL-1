{
 "cells": [
  {
   "cell_type": "code",
   "execution_count": 1,
   "metadata": {},
   "outputs": [],
   "source": [
    "class Circle:\n",
    "    pi = 3.14\n",
    "    x = 0\n",
    "    y = 0\n",
    "    r = 0\n",
    "    \n",
    "    def area(self):\n",
    "        return self.pi * self.r * self.r\n",
    "    \n",
    "    def circumference(self):\n",
    "        return 2 * self.pi * self.r\n",
    "    \n",
    "    def center(self):\n",
    "        return (self.x, self.y)\n",
    "\n",
    "    def move(self, x, y):\n",
    "        self.x = x\n",
    "        self.y = y"
   ]
  },
  {
   "cell_type": "code",
   "execution_count": 4,
   "metadata": {},
   "outputs": [
    {
     "name": "stdout",
     "output_type": "stream",
     "text": [
      "0 0 0\n"
     ]
    }
   ],
   "source": [
    "aaa = Circle()\n",
    "bbb = Circle()\n",
    "print(aaa.x, aaa.y, aaa.r)"
   ]
  },
  {
   "cell_type": "code",
   "execution_count": 5,
   "metadata": {},
   "outputs": [
    {
     "name": "stdout",
     "output_type": "stream",
     "text": [
      "2 4 3\n",
      "1 5 4\n"
     ]
    }
   ],
   "source": [
    "aaa.x = 2\n",
    "aaa.y = 4\n",
    "aaa.r = 3\n",
    "print(aaa.x, aaa.y, aaa.r)\n",
    "\n",
    "bbb.x = 1\n",
    "bbb.y = 5\n",
    "bbb.r = 4\n",
    "print(bbb.x, bbb.y, bbb.r)"
   ]
  },
  {
   "cell_type": "code",
   "execution_count": 9,
   "metadata": {},
   "outputs": [
    {
     "name": "stdout",
     "output_type": "stream",
     "text": [
      "28.259999999999998\n",
      "50.24\n"
     ]
    }
   ],
   "source": [
    "print(aaa.area())\n",
    "print(bbb.area())"
   ]
  },
  {
   "cell_type": "code",
   "execution_count": 10,
   "metadata": {},
   "outputs": [
    {
     "name": "stdout",
     "output_type": "stream",
     "text": [
      "18.84\n",
      "25.12\n"
     ]
    }
   ],
   "source": [
    "print(aaa.circumference())\n",
    "print(bbb.circumference())"
   ]
  },
  {
   "cell_type": "code",
   "execution_count": null,
   "metadata": {},
   "outputs": [],
   "source": []
  }
 ],
 "metadata": {
  "kernelspec": {
   "display_name": "Python 3",
   "language": "python",
   "name": "python3"
  },
  "language_info": {
   "codemirror_mode": {
    "name": "ipython",
    "version": 3
   },
   "file_extension": ".py",
   "mimetype": "text/x-python",
   "name": "python",
   "nbconvert_exporter": "python",
   "pygments_lexer": "ipython3",
   "version": "3.7.1"
  },
  "toc": {
   "base_numbering": 1,
   "nav_menu": {},
   "number_sections": true,
   "sideBar": true,
   "skip_h1_title": false,
   "title_cell": "Table of Contents",
   "title_sidebar": "Contents",
   "toc_cell": false,
   "toc_position": {},
   "toc_section_display": true,
   "toc_window_display": false
  }
 },
 "nbformat": 4,
 "nbformat_minor": 2
}
